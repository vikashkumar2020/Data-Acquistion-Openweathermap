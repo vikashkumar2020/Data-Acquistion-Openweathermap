{
 "cells": [
  {
   "cell_type": "markdown",
   "metadata": {},
   "source": [
    "  # Data Acquistion - Web API's\n",
    "  \n",
    "  \n",
    "  Application Programming interface - Set of routines running over web server.\n",
    "  Connects Application and Database\n",
    "  Specify Data with URL\n",
    "  Retrive Data & Parse It\n",
    "  API may return data in JSON,XML data format's\n",
    "  "
   ]
  },
  {
   "cell_type": "code",
   "execution_count": null,
   "metadata": {},
   "outputs": [],
   "source": []
  },
  {
   "cell_type": "code",
   "execution_count": 1,
   "metadata": {},
   "outputs": [],
   "source": [
    "#using urllib library to fetch data from database using api call"
   ]
  },
  {
   "cell_type": "code",
   "execution_count": 2,
   "metadata": {},
   "outputs": [],
   "source": [
    "from urllib.request import urlopen"
   ]
  },
  {
   "cell_type": "code",
   "execution_count": 3,
   "metadata": {},
   "outputs": [],
   "source": [
    "api_url =\"http://api.openweathermap.org/data/2.5/weather?q=London&appid=26bea16afc71b5450aac1e565c517dcc\" #url with api"
   ]
  },
  {
   "cell_type": "code",
   "execution_count": 4,
   "metadata": {},
   "outputs": [
    {
     "name": "stdout",
     "output_type": "stream",
     "text": [
      "b'{\"coord\":{\"lon\":-0.1257,\"lat\":51.5085},\"weather\":[{\"id\":802,\"main\":\"Clouds\",\"description\":\"scattered clouds\",\"icon\":\"03d\"}],\"base\":\"stations\",\"main\":{\"temp\":283.02,\"feels_like\":278.63,\"temp_min\":282.59,\"temp_max\":283.15,\"pressure\":996,\"humidity\":71},\"visibility\":10000,\"wind\":{\"speed\":4.63,\"deg\":280},\"clouds\":{\"all\":40},\"dt\":1612365324,\"sys\":{\"type\":1,\"id\":1414,\"country\":\"GB\",\"sunrise\":1612337735,\"sunset\":1612371182},\"timezone\":0,\"id\":2643743,\"name\":\"London\",\"cod\":200}'\n"
     ]
    }
   ],
   "source": [
    "url_result = urlopen(api_url) #storing data fetched from server\n",
    "data= url_result.read()       #reading the data which is in bytes\n",
    "print(data)"
   ]
  },
  {
   "cell_type": "code",
   "execution_count": 5,
   "metadata": {},
   "outputs": [],
   "source": [
    "import json"
   ]
  },
  {
   "cell_type": "code",
   "execution_count": 6,
   "metadata": {},
   "outputs": [],
   "source": [
    "json_data = json.loads(data) # converting data into json"
   ]
  },
  {
   "cell_type": "code",
   "execution_count": 7,
   "metadata": {},
   "outputs": [
    {
     "name": "stdout",
     "output_type": "stream",
     "text": [
      "{'coord': {'lon': -0.1257, 'lat': 51.5085}, 'weather': [{'id': 802, 'main': 'Clouds', 'description': 'scattered clouds', 'icon': '03d'}], 'base': 'stations', 'main': {'temp': 283.02, 'feels_like': 278.63, 'temp_min': 282.59, 'temp_max': 283.15, 'pressure': 996, 'humidity': 71}, 'visibility': 10000, 'wind': {'speed': 4.63, 'deg': 280}, 'clouds': {'all': 40}, 'dt': 1612365324, 'sys': {'type': 1, 'id': 1414, 'country': 'GB', 'sunrise': 1612337735, 'sunset': 1612371182}, 'timezone': 0, 'id': 2643743, 'name': 'London', 'cod': 200}\n"
     ]
    }
   ],
   "source": [
    "print(json_data)"
   ]
  },
  {
   "cell_type": "code",
   "execution_count": 8,
   "metadata": {},
   "outputs": [
    {
     "data": {
      "text/plain": [
       "{'lon': -0.1257, 'lat': 51.5085}"
      ]
     },
     "execution_count": 8,
     "metadata": {},
     "output_type": "execute_result"
    }
   ],
   "source": [
    "json_data['coord'] # dict key value pairs"
   ]
  },
  {
   "cell_type": "code",
   "execution_count": 9,
   "metadata": {},
   "outputs": [
    {
     "name": "stdout",
     "output_type": "stream",
     "text": [
      "{\"coord\": {\"lon\": -0.1257, \"lat\": 51.5085}, \"weather\": [{\"id\": 802, \"main\": \"Clouds\", \"description\": \"scattered clouds\", \"icon\": \"03d\"}], \"base\": \"stations\", \"main\": {\"temp\": 283.02, \"feels_like\": 278.63, \"temp_min\": 282.59, \"temp_max\": 283.15, \"pressure\": 996, \"humidity\": 71}, \"visibility\": 10000, \"wind\": {\"speed\": 4.63, \"deg\": 280}, \"clouds\": {\"all\": 40}, \"dt\": 1612365324, \"sys\": {\"type\": 1, \"id\": 1414, \"country\": \"GB\", \"sunrise\": 1612337735, \"sunset\": 1612371182}, \"timezone\": 0, \"id\": 2643743, \"name\": \"London\", \"cod\": 200}\n"
     ]
    },
    {
     "data": {
      "text/plain": [
       "str"
      ]
     },
     "execution_count": 9,
     "metadata": {},
     "output_type": "execute_result"
    }
   ],
   "source": [
    "json_string = json.dumps(json_data) #converting json data into string\n",
    "print(json_string)\n",
    "type(json_string)"
   ]
  },
  {
   "cell_type": "code",
   "execution_count": null,
   "metadata": {},
   "outputs": [],
   "source": []
  },
  {
   "cell_type": "code",
   "execution_count": null,
   "metadata": {},
   "outputs": [],
   "source": []
  },
  {
   "cell_type": "code",
   "execution_count": null,
   "metadata": {},
   "outputs": [],
   "source": []
  }
 ],
 "metadata": {
  "kernelspec": {
   "display_name": "Python 3",
   "language": "python",
   "name": "python3"
  },
  "language_info": {
   "codemirror_mode": {
    "name": "ipython",
    "version": 3
   },
   "file_extension": ".py",
   "mimetype": "text/x-python",
   "name": "python",
   "nbconvert_exporter": "python",
   "pygments_lexer": "ipython3",
   "version": "3.8.3"
  }
 },
 "nbformat": 4,
 "nbformat_minor": 4
}
